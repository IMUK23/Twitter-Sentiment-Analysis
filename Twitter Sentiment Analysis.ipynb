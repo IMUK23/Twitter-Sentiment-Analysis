{
  "nbformat": 4,
  "nbformat_minor": 0,
  "metadata": {
    "colab": {
      "name": "Untitled1.ipynb",
      "provenance": []
    },
    "kernelspec": {
      "name": "python3",
      "display_name": "Python 3"
    }
  },
  "cells": [
    {
      "cell_type": "code",
      "metadata": {
        "id": "g9iWQI_HtUh3",
        "colab_type": "code",
        "colab": {
          "base_uri": "https://localhost:8080/",
          "height": 51
        },
        "outputId": "9c8b5b22-58a5-4289-d55b-694e7ebf99bc"
      },
      "source": [
        "import numpy as np\n",
        "import pandas as pd\n",
        "import nltk \n",
        "import string\n",
        "from nltk.corpus import stopwords\n",
        "nltk.download('wordnet')\n",
        "import re"
      ],
      "execution_count": 388,
      "outputs": [
        {
          "output_type": "stream",
          "text": [
            "[nltk_data] Downloading package wordnet to /root/nltk_data...\n",
            "[nltk_data]   Package wordnet is already up-to-date!\n"
          ],
          "name": "stdout"
        }
      ]
    },
    {
      "cell_type": "code",
      "metadata": {
        "id": "HKVnOpO3teuT",
        "colab_type": "code",
        "colab": {}
      },
      "source": [
        "df=pd.read_csv(\"train_tweets.csv\")"
      ],
      "execution_count": 389,
      "outputs": []
    },
    {
      "cell_type": "code",
      "metadata": {
        "id": "lgilXkcBtlQw",
        "colab_type": "code",
        "colab": {
          "base_uri": "https://localhost:8080/",
          "height": 204
        },
        "outputId": "e920faa2-866c-48c4-80d2-ee339d806616"
      },
      "source": [
        "df.head()"
      ],
      "execution_count": 390,
      "outputs": [
        {
          "output_type": "execute_result",
          "data": {
            "text/html": [
              "<div>\n",
              "<style scoped>\n",
              "    .dataframe tbody tr th:only-of-type {\n",
              "        vertical-align: middle;\n",
              "    }\n",
              "\n",
              "    .dataframe tbody tr th {\n",
              "        vertical-align: top;\n",
              "    }\n",
              "\n",
              "    .dataframe thead th {\n",
              "        text-align: right;\n",
              "    }\n",
              "</style>\n",
              "<table border=\"1\" class=\"dataframe\">\n",
              "  <thead>\n",
              "    <tr style=\"text-align: right;\">\n",
              "      <th></th>\n",
              "      <th>id</th>\n",
              "      <th>label</th>\n",
              "      <th>tweet</th>\n",
              "    </tr>\n",
              "  </thead>\n",
              "  <tbody>\n",
              "    <tr>\n",
              "      <th>0</th>\n",
              "      <td>1</td>\n",
              "      <td>0</td>\n",
              "      <td>@user when a father is dysfunctional and is s...</td>\n",
              "    </tr>\n",
              "    <tr>\n",
              "      <th>1</th>\n",
              "      <td>2</td>\n",
              "      <td>0</td>\n",
              "      <td>@user @user thanks for #lyft credit i can't us...</td>\n",
              "    </tr>\n",
              "    <tr>\n",
              "      <th>2</th>\n",
              "      <td>3</td>\n",
              "      <td>0</td>\n",
              "      <td>bihday your majesty</td>\n",
              "    </tr>\n",
              "    <tr>\n",
              "      <th>3</th>\n",
              "      <td>4</td>\n",
              "      <td>0</td>\n",
              "      <td>#model   i love u take with u all the time in ...</td>\n",
              "    </tr>\n",
              "    <tr>\n",
              "      <th>4</th>\n",
              "      <td>5</td>\n",
              "      <td>0</td>\n",
              "      <td>factsguide: society now    #motivation</td>\n",
              "    </tr>\n",
              "  </tbody>\n",
              "</table>\n",
              "</div>"
            ],
            "text/plain": [
              "   id  label                                              tweet\n",
              "0   1      0   @user when a father is dysfunctional and is s...\n",
              "1   2      0  @user @user thanks for #lyft credit i can't us...\n",
              "2   3      0                                bihday your majesty\n",
              "3   4      0  #model   i love u take with u all the time in ...\n",
              "4   5      0             factsguide: society now    #motivation"
            ]
          },
          "metadata": {
            "tags": []
          },
          "execution_count": 390
        }
      ]
    },
    {
      "cell_type": "code",
      "metadata": {
        "id": "GdRa93UGt9r0",
        "colab_type": "code",
        "colab": {}
      },
      "source": [
        "df['length']=df['tweet'].apply(len)"
      ],
      "execution_count": 391,
      "outputs": []
    },
    {
      "cell_type": "code",
      "metadata": {
        "id": "g-S4066NuHrQ",
        "colab_type": "code",
        "colab": {
          "base_uri": "https://localhost:8080/",
          "height": 204
        },
        "outputId": "a4def997-5e26-4d95-ff0e-b56e45313c62"
      },
      "source": [
        "df.head()"
      ],
      "execution_count": 392,
      "outputs": [
        {
          "output_type": "execute_result",
          "data": {
            "text/html": [
              "<div>\n",
              "<style scoped>\n",
              "    .dataframe tbody tr th:only-of-type {\n",
              "        vertical-align: middle;\n",
              "    }\n",
              "\n",
              "    .dataframe tbody tr th {\n",
              "        vertical-align: top;\n",
              "    }\n",
              "\n",
              "    .dataframe thead th {\n",
              "        text-align: right;\n",
              "    }\n",
              "</style>\n",
              "<table border=\"1\" class=\"dataframe\">\n",
              "  <thead>\n",
              "    <tr style=\"text-align: right;\">\n",
              "      <th></th>\n",
              "      <th>id</th>\n",
              "      <th>label</th>\n",
              "      <th>tweet</th>\n",
              "      <th>length</th>\n",
              "    </tr>\n",
              "  </thead>\n",
              "  <tbody>\n",
              "    <tr>\n",
              "      <th>0</th>\n",
              "      <td>1</td>\n",
              "      <td>0</td>\n",
              "      <td>@user when a father is dysfunctional and is s...</td>\n",
              "      <td>102</td>\n",
              "    </tr>\n",
              "    <tr>\n",
              "      <th>1</th>\n",
              "      <td>2</td>\n",
              "      <td>0</td>\n",
              "      <td>@user @user thanks for #lyft credit i can't us...</td>\n",
              "      <td>122</td>\n",
              "    </tr>\n",
              "    <tr>\n",
              "      <th>2</th>\n",
              "      <td>3</td>\n",
              "      <td>0</td>\n",
              "      <td>bihday your majesty</td>\n",
              "      <td>21</td>\n",
              "    </tr>\n",
              "    <tr>\n",
              "      <th>3</th>\n",
              "      <td>4</td>\n",
              "      <td>0</td>\n",
              "      <td>#model   i love u take with u all the time in ...</td>\n",
              "      <td>86</td>\n",
              "    </tr>\n",
              "    <tr>\n",
              "      <th>4</th>\n",
              "      <td>5</td>\n",
              "      <td>0</td>\n",
              "      <td>factsguide: society now    #motivation</td>\n",
              "      <td>39</td>\n",
              "    </tr>\n",
              "  </tbody>\n",
              "</table>\n",
              "</div>"
            ],
            "text/plain": [
              "   id  label                                              tweet  length\n",
              "0   1      0   @user when a father is dysfunctional and is s...     102\n",
              "1   2      0  @user @user thanks for #lyft credit i can't us...     122\n",
              "2   3      0                                bihday your majesty      21\n",
              "3   4      0  #model   i love u take with u all the time in ...      86\n",
              "4   5      0             factsguide: society now    #motivation      39"
            ]
          },
          "metadata": {
            "tags": []
          },
          "execution_count": 392
        }
      ]
    },
    {
      "cell_type": "code",
      "metadata": {
        "id": "hlPiyLqBuJEo",
        "colab_type": "code",
        "colab": {}
      },
      "source": [
        "def text_processor(text):\n",
        "  return \" \".join(re.sub(\"(@[A-Za-z0-9]+)|([^0-9A-Za-z \\t])\", \"\",text.lower()).split())"
      ],
      "execution_count": 393,
      "outputs": []
    },
    {
      "cell_type": "code",
      "metadata": {
        "id": "YItOnuZj0cY0",
        "colab_type": "code",
        "colab": {
          "base_uri": "https://localhost:8080/",
          "height": 204
        },
        "outputId": "e6a74f31-5a35-480b-fcd0-16b117d6c415"
      },
      "source": [
        "df['cleaned tweets']=df['tweet'].apply(text_processor)\n",
        "df.head()"
      ],
      "execution_count": 394,
      "outputs": [
        {
          "output_type": "execute_result",
          "data": {
            "text/html": [
              "<div>\n",
              "<style scoped>\n",
              "    .dataframe tbody tr th:only-of-type {\n",
              "        vertical-align: middle;\n",
              "    }\n",
              "\n",
              "    .dataframe tbody tr th {\n",
              "        vertical-align: top;\n",
              "    }\n",
              "\n",
              "    .dataframe thead th {\n",
              "        text-align: right;\n",
              "    }\n",
              "</style>\n",
              "<table border=\"1\" class=\"dataframe\">\n",
              "  <thead>\n",
              "    <tr style=\"text-align: right;\">\n",
              "      <th></th>\n",
              "      <th>id</th>\n",
              "      <th>label</th>\n",
              "      <th>tweet</th>\n",
              "      <th>length</th>\n",
              "      <th>cleaned tweets</th>\n",
              "    </tr>\n",
              "  </thead>\n",
              "  <tbody>\n",
              "    <tr>\n",
              "      <th>0</th>\n",
              "      <td>1</td>\n",
              "      <td>0</td>\n",
              "      <td>@user when a father is dysfunctional and is s...</td>\n",
              "      <td>102</td>\n",
              "      <td>when a father is dysfunctional and is so selfi...</td>\n",
              "    </tr>\n",
              "    <tr>\n",
              "      <th>1</th>\n",
              "      <td>2</td>\n",
              "      <td>0</td>\n",
              "      <td>@user @user thanks for #lyft credit i can't us...</td>\n",
              "      <td>122</td>\n",
              "      <td>thanks for lyft credit i cant use cause they d...</td>\n",
              "    </tr>\n",
              "    <tr>\n",
              "      <th>2</th>\n",
              "      <td>3</td>\n",
              "      <td>0</td>\n",
              "      <td>bihday your majesty</td>\n",
              "      <td>21</td>\n",
              "      <td>bihday your majesty</td>\n",
              "    </tr>\n",
              "    <tr>\n",
              "      <th>3</th>\n",
              "      <td>4</td>\n",
              "      <td>0</td>\n",
              "      <td>#model   i love u take with u all the time in ...</td>\n",
              "      <td>86</td>\n",
              "      <td>model i love u take with u all the time in ur</td>\n",
              "    </tr>\n",
              "    <tr>\n",
              "      <th>4</th>\n",
              "      <td>5</td>\n",
              "      <td>0</td>\n",
              "      <td>factsguide: society now    #motivation</td>\n",
              "      <td>39</td>\n",
              "      <td>factsguide society now motivation</td>\n",
              "    </tr>\n",
              "  </tbody>\n",
              "</table>\n",
              "</div>"
            ],
            "text/plain": [
              "   id  label  ... length                                     cleaned tweets\n",
              "0   1      0  ...    102  when a father is dysfunctional and is so selfi...\n",
              "1   2      0  ...    122  thanks for lyft credit i cant use cause they d...\n",
              "2   3      0  ...     21                                bihday your majesty\n",
              "3   4      0  ...     86      model i love u take with u all the time in ur\n",
              "4   5      0  ...     39                  factsguide society now motivation\n",
              "\n",
              "[5 rows x 5 columns]"
            ]
          },
          "metadata": {
            "tags": []
          },
          "execution_count": 394
        }
      ]
    },
    {
      "cell_type": "code",
      "metadata": {
        "id": "Alj7DLaL1GJv",
        "colab_type": "code",
        "colab": {}
      },
      "source": [
        "from nltk.stem import WordNetLemmatizer"
      ],
      "execution_count": 395,
      "outputs": []
    },
    {
      "cell_type": "code",
      "metadata": {
        "id": "Mz8pXjOT1k-4",
        "colab_type": "code",
        "colab": {}
      },
      "source": [
        "stemmer=PorterStemmer()"
      ],
      "execution_count": 396,
      "outputs": []
    },
    {
      "cell_type": "code",
      "metadata": {
        "id": "QFoD_VzH1l1o",
        "colab_type": "code",
        "colab": {}
      },
      "source": [
        "X=df['cleaned tweets']\n",
        "y=df['label']"
      ],
      "execution_count": 397,
      "outputs": []
    },
    {
      "cell_type": "code",
      "metadata": {
        "id": "uhdC956O1xWw",
        "colab_type": "code",
        "colab": {}
      },
      "source": [
        "def stemming(text):\n",
        "  words=nltk.word_tokenize(text)\n",
        "  words=[stemmer.stem(word) for word in words]\n",
        "  words=\" \".join(words)\n",
        "  return words"
      ],
      "execution_count": 398,
      "outputs": []
    },
    {
      "cell_type": "code",
      "metadata": {
        "id": "SC8MZQ0v3xgX",
        "colab_type": "code",
        "colab": {}
      },
      "source": [
        ""
      ],
      "execution_count": 398,
      "outputs": []
    },
    {
      "cell_type": "code",
      "metadata": {
        "id": "VvUk4--4lEd_",
        "colab_type": "code",
        "colab": {}
      },
      "source": [
        "count_class_0 ,count_class_1 = df.label.value_counts()\n",
        "class_0 = df[df.label == 0]\n",
        "class_1 =df[df.label == 1]"
      ],
      "execution_count": 399,
      "outputs": []
    },
    {
      "cell_type": "code",
      "metadata": {
        "id": "KQMJHUsNlE3v",
        "colab_type": "code",
        "colab": {
          "base_uri": "https://localhost:8080/",
          "height": 221
        },
        "outputId": "bf415fa3-b245-42e4-a857-eab9bbfa9aa8"
      },
      "source": [
        "\n",
        "class_1_over = class_1.sample(count_class_0, replace=True)\n",
        "train_over = pd.concat([class_0, class_1_over ], axis=0)\n",
        "\n",
        "print('Random over-sampling:')\n",
        "#print(df_test_under.sentiment.value_counts())\n",
        "print(train_over.label.value_counts())\n",
        "print(train_over.head())"
      ],
      "execution_count": 400,
      "outputs": [
        {
          "output_type": "stream",
          "text": [
            "Random over-sampling:\n",
            "1    29720\n",
            "0    29720\n",
            "Name: label, dtype: int64\n",
            "   id  label  ... length                                     cleaned tweets\n",
            "0   1      0  ...    102  when a father is dysfunctional and is so selfi...\n",
            "1   2      0  ...    122  thanks for lyft credit i cant use cause they d...\n",
            "2   3      0  ...     21                                bihday your majesty\n",
            "3   4      0  ...     86      model i love u take with u all the time in ur\n",
            "4   5      0  ...     39                  factsguide society now motivation\n",
            "\n",
            "[5 rows x 5 columns]\n"
          ],
          "name": "stdout"
        }
      ]
    },
    {
      "cell_type": "code",
      "metadata": {
        "id": "ld2vnVQMlFmv",
        "colab_type": "code",
        "colab": {}
      },
      "source": [
        "X=df['cleaned tweets'].apply(stemming)"
      ],
      "execution_count": 401,
      "outputs": []
    },
    {
      "cell_type": "code",
      "metadata": {
        "id": "Z2bt-SZC36Mn",
        "colab_type": "code",
        "colab": {}
      },
      "source": [
        "y=df['label']\n"
      ],
      "execution_count": 402,
      "outputs": []
    },
    {
      "cell_type": "code",
      "metadata": {
        "id": "kFMyqk0H_gJf",
        "colab_type": "code",
        "colab": {}
      },
      "source": [
        ""
      ],
      "execution_count": 401,
      "outputs": []
    },
    {
      "cell_type": "code",
      "metadata": {
        "id": "NWavdbIk_gh7",
        "colab_type": "code",
        "colab": {}
      },
      "source": [
        ""
      ],
      "execution_count": 323,
      "outputs": []
    },
    {
      "cell_type": "code",
      "metadata": {
        "id": "9s_QlurSF88Y",
        "colab_type": "code",
        "colab": {}
      },
      "source": [
        "from sklearn.feature_extraction.text import CountVectorizer,TfidfVectorizer\n",
        "from sklearn.linear_model import PassiveAggressiveClassifier\n",
        "from sklearn.svm import SVC\n",
        "from xgboost import XGBClassifier"
      ],
      "execution_count": 403,
      "outputs": []
    },
    {
      "cell_type": "markdown",
      "metadata": {
        "id": "nF6AHM6EF-WR",
        "colab_type": "text"
      },
      "source": [
        ""
      ]
    },
    {
      "cell_type": "code",
      "metadata": {
        "id": "3jd6rYZm387Q",
        "colab_type": "code",
        "colab": {}
      },
      "source": [
        "cvr=CountVectorizer(stop_words='english')\n",
        "tfidf=TfidfTransformer()"
      ],
      "execution_count": 410,
      "outputs": []
    },
    {
      "cell_type": "code",
      "metadata": {
        "id": "FpA5tz9r4Wbb",
        "colab_type": "code",
        "colab": {}
      },
      "source": [
        "\n",
        "from sklearn.model_selection import KFold\n",
        "from sklearn.metrics import f1_score\n"
      ],
      "execution_count": 406,
      "outputs": []
    },
    {
      "cell_type": "code",
      "metadata": {
        "id": "m-WtD0t44j_v",
        "colab_type": "code",
        "colab": {}
      },
      "source": [
        "\n",
        "\n"
      ],
      "execution_count": 366,
      "outputs": []
    },
    {
      "cell_type": "code",
      "metadata": {
        "id": "Ov0eW8yc4qI3",
        "colab_type": "code",
        "colab": {}
      },
      "source": [
        ""
      ],
      "execution_count": 326,
      "outputs": []
    },
    {
      "cell_type": "code",
      "metadata": {
        "id": "ksjk5eL8487v",
        "colab_type": "code",
        "colab": {}
      },
      "source": [
        "\n",
        "nb=PassiveAggressiveClassifier(random_state=101)\n"
      ],
      "execution_count": 407,
      "outputs": []
    },
    {
      "cell_type": "code",
      "metadata": {
        "id": "IX_tg-9U5AYH",
        "colab_type": "code",
        "colab": {
          "base_uri": "https://localhost:8080/",
          "height": 581
        },
        "outputId": "be804af6-3b16-4954-9b0b-64ef9a5f8835"
      },
      "source": [
        "scores = []\n",
        "cv = KFold(n_splits=10, random_state=42, shuffle=False)\n",
        "for train_index, test_index in cv.split(X):\n",
        "    print(\"Train Index: \", train_index, \"\\n\")\n",
        "    print(\"Test Index: \", test_index)\n",
        "\n",
        "    X_train, X_test, y_train, y_test = X[train_index], X[test_index], y[train_index], y[test_index]\n",
        "    \n",
        "    X_train=cvr.fit_transform(X_train)\n",
        "    X_test=cvr.transform(X_test)\n",
        "    X_train=tfidf.fit_transform(X_train)\n",
        "    X_test=tfidf.transform(X_test)\n",
        "    nb.fit(X_train, y_train)\n",
        "    pred=nb.predict(X_test)\n",
        "    scores.append(f1_score(y_test,pred))\n"
      ],
      "execution_count": 408,
      "outputs": [
        {
          "output_type": "stream",
          "text": [
            "/usr/local/lib/python3.6/dist-packages/sklearn/model_selection/_split.py:296: FutureWarning: Setting a random_state has no effect since shuffle is False. This will raise an error in 0.24. You should leave random_state to its default (None), or set shuffle=True.\n",
            "  FutureWarning\n"
          ],
          "name": "stderr"
        },
        {
          "output_type": "stream",
          "text": [
            "Train Index:  [ 3197  3198  3199 ... 31959 31960 31961] \n",
            "\n",
            "Test Index:  [   0    1    2 ... 3194 3195 3196]\n",
            "Train Index:  [    0     1     2 ... 31959 31960 31961] \n",
            "\n",
            "Test Index:  [3197 3198 3199 ... 6391 6392 6393]\n",
            "Train Index:  [    0     1     2 ... 31959 31960 31961] \n",
            "\n",
            "Test Index:  [6394 6395 6396 ... 9587 9588 9589]\n",
            "Train Index:  [    0     1     2 ... 31959 31960 31961] \n",
            "\n",
            "Test Index:  [ 9590  9591  9592 ... 12783 12784 12785]\n",
            "Train Index:  [    0     1     2 ... 31959 31960 31961] \n",
            "\n",
            "Test Index:  [12786 12787 12788 ... 15979 15980 15981]\n",
            "Train Index:  [    0     1     2 ... 31959 31960 31961] \n",
            "\n",
            "Test Index:  [15982 15983 15984 ... 19175 19176 19177]\n",
            "Train Index:  [    0     1     2 ... 31959 31960 31961] \n",
            "\n",
            "Test Index:  [19178 19179 19180 ... 22371 22372 22373]\n",
            "Train Index:  [    0     1     2 ... 31959 31960 31961] \n",
            "\n",
            "Test Index:  [22374 22375 22376 ... 25567 25568 25569]\n",
            "Train Index:  [    0     1     2 ... 31959 31960 31961] \n",
            "\n",
            "Test Index:  [25570 25571 25572 ... 28763 28764 28765]\n",
            "Train Index:  [    0     1     2 ... 28763 28764 28765] \n",
            "\n",
            "Test Index:  [28766 28767 28768 ... 31959 31960 31961]\n"
          ],
          "name": "stdout"
        }
      ]
    },
    {
      "cell_type": "code",
      "metadata": {
        "id": "GXF8ub3_5Gd_",
        "colab_type": "code",
        "colab": {
          "base_uri": "https://localhost:8080/",
          "height": 54
        },
        "outputId": "b0ca4a71-5726-4963-d2a2-9442c2cfda9f"
      },
      "source": [
        "print(scores)"
      ],
      "execution_count": 409,
      "outputs": [
        {
          "output_type": "stream",
          "text": [
            "[0.7199999999999999, 0.6880733944954128, 0.6602870813397128, 0.691304347826087, 0.6681614349775785, 0.6482412060301508, 0.6767895878524945, 0.6898047722342733, 0.6604215456674473, 0.6770601336302895]\n"
          ],
          "name": "stdout"
        }
      ]
    },
    {
      "cell_type": "code",
      "metadata": {
        "id": "AuDd7HNl5MKg",
        "colab_type": "code",
        "colab": {}
      },
      "source": [
        "df2=pd.read_csv('test_tweets.csv')\n",
        "submit=pd.DataFrame()\n"
      ],
      "execution_count": 374,
      "outputs": []
    },
    {
      "cell_type": "code",
      "metadata": {
        "id": "8VexQFZv5t34",
        "colab_type": "code",
        "colab": {}
      },
      "source": [
        "\n",
        "X=df2['tweet']\n",
        "df2['cleaned tweets']=df2['tweet'].apply(text_processor)\n",
        "\n",
        "\n",
        "X=df2['cleaned tweets']\n",
        "X=X.apply(stemming)\n",
        "X=cvr.transform(X)\n",
        "X=tfidf.transform(X)\n",
        "predi=nb.predict(X)\n",
        "submit['label']=predi\n"
      ],
      "execution_count": 375,
      "outputs": []
    },
    {
      "cell_type": "code",
      "metadata": {
        "id": "ZdlouhQl5w_I",
        "colab_type": "code",
        "colab": {}
      },
      "source": [
        "submit['id']=df2['id']"
      ],
      "execution_count": 376,
      "outputs": []
    },
    {
      "cell_type": "code",
      "metadata": {
        "id": "HlYJlRMV6Ha3",
        "colab_type": "code",
        "colab": {}
      },
      "source": [
        "submit.head()\n",
        "submit.to_csv(\"submission9.csv\")"
      ],
      "execution_count": 377,
      "outputs": []
    },
    {
      "cell_type": "code",
      "metadata": {
        "id": "l6clAX4V-1JC",
        "colab_type": "code",
        "colab": {}
      },
      "source": [
        ""
      ],
      "execution_count": 36,
      "outputs": []
    },
    {
      "cell_type": "code",
      "metadata": {
        "id": "M5REOfi2-643",
        "colab_type": "code",
        "colab": {
          "base_uri": "https://localhost:8080/",
          "height": 204
        },
        "outputId": "2fe4e890-c21a-4dd1-91be-afddcb1a9e65"
      },
      "source": [
        ""
      ],
      "execution_count": 37,
      "outputs": [
        {
          "output_type": "execute_result",
          "data": {
            "text/html": [
              "<div>\n",
              "<style scoped>\n",
              "    .dataframe tbody tr th:only-of-type {\n",
              "        vertical-align: middle;\n",
              "    }\n",
              "\n",
              "    .dataframe tbody tr th {\n",
              "        vertical-align: top;\n",
              "    }\n",
              "\n",
              "    .dataframe thead th {\n",
              "        text-align: right;\n",
              "    }\n",
              "</style>\n",
              "<table border=\"1\" class=\"dataframe\">\n",
              "  <thead>\n",
              "    <tr style=\"text-align: right;\">\n",
              "      <th></th>\n",
              "      <th>id</th>\n",
              "      <th>label</th>\n",
              "    </tr>\n",
              "  </thead>\n",
              "  <tbody>\n",
              "    <tr>\n",
              "      <th>0</th>\n",
              "      <td>31963</td>\n",
              "      <td>0</td>\n",
              "    </tr>\n",
              "    <tr>\n",
              "      <th>1</th>\n",
              "      <td>31964</td>\n",
              "      <td>0</td>\n",
              "    </tr>\n",
              "    <tr>\n",
              "      <th>2</th>\n",
              "      <td>31965</td>\n",
              "      <td>0</td>\n",
              "    </tr>\n",
              "    <tr>\n",
              "      <th>3</th>\n",
              "      <td>31966</td>\n",
              "      <td>0</td>\n",
              "    </tr>\n",
              "    <tr>\n",
              "      <th>4</th>\n",
              "      <td>31967</td>\n",
              "      <td>0</td>\n",
              "    </tr>\n",
              "  </tbody>\n",
              "</table>\n",
              "</div>"
            ],
            "text/plain": [
              "      id  label\n",
              "0  31963      0\n",
              "1  31964      0\n",
              "2  31965      0\n",
              "3  31966      0\n",
              "4  31967      0"
            ]
          },
          "metadata": {
            "tags": []
          },
          "execution_count": 37
        }
      ]
    },
    {
      "cell_type": "code",
      "metadata": {
        "id": "oEt_BJxG-_kB",
        "colab_type": "code",
        "colab": {}
      },
      "source": [
        ""
      ],
      "execution_count": 38,
      "outputs": []
    },
    {
      "cell_type": "code",
      "metadata": {
        "id": "9AHSpHQI_D2I",
        "colab_type": "code",
        "colab": {}
      },
      "source": [
        ""
      ],
      "execution_count": 410,
      "outputs": []
    },
    {
      "cell_type": "code",
      "metadata": {
        "id": "ObWXsjytwFrn",
        "colab_type": "code",
        "colab": {}
      },
      "source": [
        ""
      ],
      "execution_count": null,
      "outputs": []
    }
  ]
}